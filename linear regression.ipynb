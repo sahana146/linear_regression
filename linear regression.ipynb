{
 "cells": [
  {
   "cell_type": "code",
   "execution_count": 100,
   "metadata": {},
   "outputs": [],
   "source": [
    "#import libraries\n",
    "import numpy as np\n",
    "import pandas as pd\n",
    "import matplotlib.pyplot as plt\n",
    "import random"
   ]
  },
  {
   "cell_type": "code",
   "execution_count": 101,
   "metadata": {},
   "outputs": [],
   "source": [
    "#reading data from a file\n",
    "df=pd.read_csv(\"Salary_Data.csv\")"
   ]
  },
  {
   "cell_type": "code",
   "execution_count": 102,
   "metadata": {},
   "outputs": [],
   "source": [
    "def cost_function(x,y,theta0,theta1):\n",
    "    cost=0\n",
    "    m=len(x)\n",
    "    hypothesis=0\n",
    "    for i in range(m):\n",
    "        hypothesis=theta0+(theta1*x[i])\n",
    "        temp=hypothesis-y[i]\n",
    "        cost=cost+temp**2\n",
    "    cost=cost/(2*m)\n",
    "    \n",
    "    return cost\n",
    "\n",
    "\n",
    "def gradient_descent(x,y,theta0,theta1):\n",
    "    cost=0\n",
    "    m=len(x)\n",
    "    hypothesis=0\n",
    "    for i in range(m):\n",
    "        hypothesis=theta0+(theta1*x[i])\n",
    "        cost+=(hypothesis-y[i])\n",
    "    cost=(1/m)*cost\n",
    "    \n",
    "    cost1=0\n",
    "    for i in range(m-1):\n",
    "        hypothesis=theta0+(theta1*x[i])\n",
    "        cost1+=((hypothesis-y[i])*x[i])\n",
    "    cost1=(1/m)*cost1\n",
    "    \n",
    "    return cost,cost1\n",
    "\n",
    "\n",
    "def split(train,test,array):\n",
    "    for i in range(len(array)):\n",
    "        if random.random()<0.66:\n",
    "            train.append(array[i])\n",
    "        else:\n",
    "            test.append(array[i]) "
   ]
  },
  {
   "cell_type": "code",
   "execution_count": 103,
   "metadata": {},
   "outputs": [],
   "source": [
    "array=np.array(df)\n",
    "x=array[:,0]\n",
    "y=array[:,1]\n"
   ]
  },
  {
   "cell_type": "code",
   "execution_count": 104,
   "metadata": {},
   "outputs": [
    {
     "data": {
      "text/plain": [
       "[<matplotlib.lines.Line2D at 0x283b6ad33c8>]"
      ]
     },
     "execution_count": 104,
     "metadata": {},
     "output_type": "execute_result"
    },
    {
     "data": {
      "image/png": "[encoded data removed]",
      "text/plain": [
       "<Figure size 432x288 with 1 Axes>"
      ]
     },
     "metadata": {},
     "output_type": "display_data"
    }
   ],
   "source": [
    "#plotting\n",
    "plt.scatter(x,y)\n",
    "plt.xlabel(\"Experience\")\n",
    "plt.ylabel(\"salary\")\n",
    "\n",
    "train=[]\n",
    "test=[]\n",
    "\n",
    "#splitting the data\n",
    "split(train,test,array)\n",
    "\n",
    "\n",
    "#finding theta0 and theta1\n",
    "iterations=3000\n",
    "alpha=0.02\n",
    "theta0=0\n",
    "theta1=0\n",
    "\n",
    "for i in range(iterations):\n",
    "    cst=cost_function(x,y,theta0,theta1)\n",
    "    cost,cost1=gradient_descent(x,y,theta0,theta1)\n",
    "    theta0=theta0-alpha*cost\n",
    "    theta1=theta1-alpha*cost1\n",
    "   \n",
    "    \n",
    "#determining the best fit line using predicted output    \n",
    "y_pred=[]\n",
    "for i in range(len(x)):\n",
    "    y_pred.append(theta0+theta1*x[i])\n",
    "  \n",
    "#plotting the best fit line \n",
    "plt.plot(x,y_pred)    \n"
   ]
  },
  {
   "cell_type": "code",
   "execution_count": 105,
   "metadata": {},
   "outputs": [
    {
     "name": "stdout",
     "output_type": "stream",
     "text": [
      "\n",
      "Years of experience :  1.3\n",
      "Expected salary :   37336.83417788097\n",
      "Actual salary :  46205.0\n",
      "\n",
      "Years of experience :  2.2\n",
      "Expected salary :   46007.799943932034\n",
      "Actual salary :  39891.0\n",
      "\n",
      "Years of experience :  3.2\n",
      "Expected salary :   55642.20635065544\n",
      "Actual salary :  64445.0\n",
      "\n",
      "Years of experience :  4.5\n",
      "Expected salary :   68166.93467939585\n",
      "Actual salary :  61111.0\n",
      "\n",
      "Years of experience :  5.1\n",
      "Expected salary :   73947.5785234299\n",
      "Actual salary :  66029.0\n",
      "\n",
      "Years of experience :  7.9\n",
      "Expected salary :   100923.91646225542\n",
      "Actual salary :  101302.0\n"
     ]
    }
   ],
   "source": [
    "#test cases\n",
    "for i in range(len(test)):\n",
    "    print(\"\\nYears of experience : \",test[i][0])\n",
    "    print(\"Expected salary :  \",theta0+theta1*test[i][0])\n",
    "    print(\"Actual salary : \",test[i][1])"
   ]
  },
  {
   "cell_type": "code",
   "execution_count": null,
   "metadata": {},
   "outputs": [],
   "source": []
  },
  {
   "cell_type": "code",
   "execution_count": null,
   "metadata": {},
   "outputs": [],
   "source": []
  }
 ],
 "metadata": {
  "kernelspec": {
   "display_name": "Python 3",
   "language": "python",
   "name": "python3"
  },
  "language_info": {
   "codemirror_mode": {
    "name": "ipython",
    "version": 3
   },
   "file_extension": ".py",
   "mimetype": "text/x-python",
   "name": "python",
   "nbconvert_exporter": "python",
   "pygments_lexer": "ipython3",
   "version": "3.6.5"
  }
 },
 "nbformat": 4,
 "nbformat_minor": 2
}
